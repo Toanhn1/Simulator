{
 "cells": [
  {
   "cell_type": "code",
   "execution_count": 2,
   "metadata": {},
   "outputs": [],
   "source": [
    "from mysql import connector  as cn\n",
    "from pydal import DAL, Field"
   ]
  },
  {
   "cell_type": "code",
   "execution_count": null,
   "metadata": {
    "scrolled": true
   },
   "outputs": [],
   "source": [
    "#Connect with mySql \n",
    "connect = cn.Connect(\n",
    "        user = 'root',\n",
    "        password='root',\n",
    "        host='localhost',\n",
    "        database='studyCode'\n",
    ")\n",
    "\n",
    "#get cursor\n",
    "cur = connect.cursor(buffered=True)\n",
    "\n",
    "#the syntax to select data from table\n",
    "def select_event(para):\n",
    "    strQuery = \"select event_id ,event_sub_id,performance_id,time from events where event_id = \" + str(para)\n",
    "    return strQuery\n",
    "\n",
    "#the syntax to delete data to table\n",
    "def delete_event(param):\n",
    "    delQuery = \"delete from events where event_id = %r\" %param\n",
    "    return delQuery\n",
    "\n",
    "#the syntax to update data to table\n",
    "def update_event(eventId,eventSubId):\n",
    "    updateQuery = \"update events set event_sub_id = %s where event_id = %s\" %(eventSubId,eventId)\n",
    "    return updateQuery\n",
    "\n",
    "#the syntax to insert data \n",
    "def insert_event(eventId,eventSubId,performancs_id):\n",
    "    insertQuery = \"insert into events (event_id ,event_sub_id,performance_id) values(%s,%s,%s)\" %(eventId,eventSubId,performancs_id)\n",
    "    return insertQuery\n",
    "\n",
    "#call method to execute insert query\n",
    "cur.execute(insert_event('224','333','444'))\n",
    "\n",
    "#call method to execute update query\n",
    "cur.execute(update_event('23','345')) \n",
    "\n",
    "#call method to execute delete query\n",
    "cur.execute(delete_event(222))\n",
    "\n",
    "#call method to execute select query\n",
    "cur.execute(select_event(224))\n",
    "\n",
    "#Output the all datas have been selected in database\n",
    "for (eventId,eventSub,performance,time) in cur:\n",
    "    print(eventId,eventSub,performance,time)\n",
    "\n",
    "#push data\n",
    "connect.commit()\n",
    "\n",
    "#close cursorr\n",
    "cur.close()\n",
    "\n",
    "#Close connection\n",
    "connect.close()"
   ]
  }
 ],
 "metadata": {
  "kernelspec": {
   "display_name": "Python 3",
   "language": "python",
   "name": "python3"
  },
  "language_info": {
   "codemirror_mode": {
    "name": "ipython",
    "version": 3
   },
   "file_extension": ".py",
   "mimetype": "text/x-python",
   "name": "python",
   "nbconvert_exporter": "python",
   "pygments_lexer": "ipython3",
   "version": "3.6.5"
  }
 },
 "nbformat": 4,
 "nbformat_minor": 2
}
